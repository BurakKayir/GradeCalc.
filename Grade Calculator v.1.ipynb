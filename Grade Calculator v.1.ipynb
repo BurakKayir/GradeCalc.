{
 "cells": [
  {
   "cell_type": "code",
   "execution_count": null,
   "id": "cb25a779",
   "metadata": {},
   "outputs": [],
   "source": [
    "midterm1 = int(input(\"1st midterm\"))\n",
    "\n",
    "midterm2 = int(input(\"2nd midterm\"))\n",
    "\n",
    "finalexam =int(input(\"final:\"))\n",
    "\n",
    "AverageGrade =  midterm1 * 0.30 + midterm2 * 0.30 + finalexam * 0.40\n",
    "\n",
    "if (AverageGrade >= 90):\n",
    "    print(\"Your grade is A+\")\n",
    "    \n",
    "elif (AverageGrade >= 85):\n",
    "    print(\"Your grade is A\")\n",
    "    \n",
    "elif (AverageGrade >= 80):\n",
    "    print(\"Your grade is B+\")\n",
    "    \n",
    "elif (AverageGrade >= 75):\n",
    "    print(\"Your grade is B\")\n",
    "    \n",
    "elif (AverageGrade >= 70):\n",
    "    print(\"Your grade is C+\")\n",
    "    \n",
    "elif (AverageGrade >= 65):\n",
    "    print(\"Your grade is D+\")\n",
    "    \n",
    "elif (AverageGrade >= 60):\n",
    "    print(\"Your grade is D\")\n",
    "    \n",
    "elif (AverageGrade >= 55):\n",
    "    print(\"Your grade is F+\")\n",
    "    \n",
    "else:\n",
    "    print(\"Your grade is F\")"
   ]
  }
 ],
 "metadata": {
  "kernelspec": {
   "display_name": "Python 3 (ipykernel)",
   "language": "python",
   "name": "python3"
  },
  "language_info": {
   "codemirror_mode": {
    "name": "ipython",
    "version": 3
   },
   "file_extension": ".py",
   "mimetype": "text/x-python",
   "name": "python",
   "nbconvert_exporter": "python",
   "pygments_lexer": "ipython3",
   "version": "3.9.7"
  }
 },
 "nbformat": 4,
 "nbformat_minor": 5
}
